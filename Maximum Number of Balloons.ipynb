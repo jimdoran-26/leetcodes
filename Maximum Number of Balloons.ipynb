{
 "cells": [
  {
   "cell_type": "markdown",
   "metadata": {},
   "source": [
    "1189\n",
    "\n",
    "https://leetcode.com/problems/maximum-number-of-balloons/\n",
    "    \n",
    "Given a string text, you want to use the characters of text to form as many instances of the word \"balloon\" as possible.\n",
    "\n",
    "You can use each character in text at most once. Return the maximum number of instances that can be formed.\n",
    "\n",
    " \n",
    "\n",
    "Example 1:\n",
    "\n",
    "\n",
    "\n",
    "Input: text = \"nlaebolko\"\n",
    "Output: 1\n",
    "Example 2:\n",
    "\n",
    "\n",
    "\n",
    "Input: text = \"loonbalxballpoon\"\n",
    "Output: 2\n",
    "Example 3:\n",
    "\n",
    "Input: text = \"leetcode\"\n",
    "Output: 0\n",
    " \n",
    "\n",
    "Constraints:\n",
    "\n",
    "1 <= text.length <= 10^4\n",
    "text consists of lower case English letters only."
   ]
  },
  {
   "cell_type": "code",
   "execution_count": 1,
   "metadata": {},
   "outputs": [],
   "source": [
    "class Solution:\n",
    "    def maxNumberOfBalloons(self, text):\n",
    "        count={'b':0,'a':0,'l':0,'o':0,'n':0}\n",
    "        for i in text:\n",
    "            if i in count.keys():\n",
    "                count[i]+=1\n",
    "        return int(min(count['b'],count['a'],count['l']/2,count['o']/2,count['n']))"
   ]
  },
  {
   "cell_type": "code",
   "execution_count": null,
   "metadata": {},
   "outputs": [],
   "source": []
  }
 ],
 "metadata": {
  "kernelspec": {
   "display_name": "Python 3",
   "language": "python",
   "name": "python3"
  },
  "language_info": {
   "codemirror_mode": {
    "name": "ipython",
    "version": 3
   },
   "file_extension": ".py",
   "mimetype": "text/x-python",
   "name": "python",
   "nbconvert_exporter": "python",
   "pygments_lexer": "ipython3",
   "version": "3.7.7"
  }
 },
 "nbformat": 4,
 "nbformat_minor": 4
}
