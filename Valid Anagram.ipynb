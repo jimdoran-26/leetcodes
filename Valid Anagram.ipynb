{
 "cells": [
  {
   "cell_type": "markdown",
   "metadata": {},
   "source": [
    "242.\n",
    "\n",
    "https://leetcode.com/problems/valid-anagram/\n",
    "\n",
    "Given two strings s and t , write a function to determine if t is an anagram of s.\n",
    "\n",
    "Example 1:\n",
    "\n",
    "Input: s = \"anagram\", t = \"nagaram\"\n",
    "Output: true\n",
    "Example 2:\n",
    "\n",
    "Input: s = \"rat\", t = \"car\"\n",
    "Output: false\n",
    "Note:\n",
    "You may assume the string contains only lowercase alphabets.\n",
    "\n",
    "Follow up:\n",
    "What if the inputs contain unicode characters? How would you adapt your solution to such case?"
   ]
  },
  {
   "cell_type": "code",
   "execution_count": 2,
   "metadata": {},
   "outputs": [],
   "source": [
    "class Solution(object):\n",
    "    def isAnagram(self, s, t):\n",
    "        \"\"\"\n",
    "        :type s: str\n",
    "        :type t: str\n",
    "        :rtype: bool\n",
    "        \"\"\"\n",
    "        x=True\n",
    "        \n",
    "        if len(s) != len(t):\n",
    "            return False\n",
    "            exit()\n",
    "        for i in range(len(s)):\n",
    "            symbol = s[i]\n",
    "            if symbol not in t:\n",
    "                x = False\n",
    "                break\n",
    "            else:\n",
    "                t=t[0:t.index(symbol)] + t[t.index(symbol)+1:]\n",
    "                \n",
    "        return x\n",
    "            "
   ]
  },
  {
   "cell_type": "code",
   "execution_count": null,
   "metadata": {},
   "outputs": [],
   "source": []
  }
 ],
 "metadata": {
  "kernelspec": {
   "display_name": "Python 3",
   "language": "python",
   "name": "python3"
  },
  "language_info": {
   "codemirror_mode": {
    "name": "ipython",
    "version": 3
   },
   "file_extension": ".py",
   "mimetype": "text/x-python",
   "name": "python",
   "nbconvert_exporter": "python",
   "pygments_lexer": "ipython3",
   "version": "3.7.7"
  }
 },
 "nbformat": 4,
 "nbformat_minor": 4
}
