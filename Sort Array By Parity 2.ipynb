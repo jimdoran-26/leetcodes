{
 "cells": [
  {
   "cell_type": "markdown",
   "metadata": {},
   "source": [
    "922\n",
    "\n",
    "https://leetcode.com/problems/sort-array-by-parity-ii/\n",
    "    \n",
    "Given an array A of non-negative integers, half of the integers in A are odd, and half of the integers are even.\n",
    "\n",
    "Sort the array so that whenever A[i] is odd, i is odd; and whenever A[i] is even, i is even.\n",
    "\n",
    "You may return any answer array that satisfies this condition.\n",
    "\n",
    " \n",
    "\n",
    "Example 1:\n",
    "\n",
    "Input: [4,2,5,7]\n",
    "Output: [4,5,2,7]\n",
    "Explanation: [4,7,2,5], [2,5,4,7], [2,7,4,5] would also have been accepted.\n",
    " \n",
    "\n",
    "Note:\n",
    "\n",
    "2 <= A.length <= 20000\n",
    "A.length % 2 == 0\n",
    "0 <= A[i] <= 1000\n"
   ]
  },
  {
   "cell_type": "code",
   "execution_count": 3,
   "metadata": {},
   "outputs": [],
   "source": [
    "class Solution(object):\n",
    "    def sortArrayByParityII(self, A):\n",
    "        \"\"\"\n",
    "        :type A: List[int]\n",
    "        :rtype: List[int]\n",
    "        \"\"\"\n",
    "        store =[]\n",
    "        evens= []\n",
    "        odds= []\n",
    "        \n",
    "        for i in A:\n",
    "            if i % 2 ==1:\n",
    "                odds.append(i)\n",
    "            else:\n",
    "                evens.append(i)\n",
    "        \n",
    "        for i in range(len(evens)):\n",
    "            store.append(evens[i])\n",
    "            store.append(odds[i])\n",
    "        \n",
    "        return store\n",
    "\n",
    "\n"
   ]
  },
  {
   "cell_type": "code",
   "execution_count": null,
   "metadata": {},
   "outputs": [],
   "source": []
  }
 ],
 "metadata": {
  "kernelspec": {
   "display_name": "Python 3",
   "language": "python",
   "name": "python3"
  },
  "language_info": {
   "codemirror_mode": {
    "name": "ipython",
    "version": 3
   },
   "file_extension": ".py",
   "mimetype": "text/x-python",
   "name": "python",
   "nbconvert_exporter": "python",
   "pygments_lexer": "ipython3",
   "version": "3.7.7"
  }
 },
 "nbformat": 4,
 "nbformat_minor": 4
}
