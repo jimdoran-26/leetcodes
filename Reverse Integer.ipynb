{
 "cells": [
  {
   "cell_type": "markdown",
   "metadata": {},
   "source": [
    "#7\n",
    "Given a 32-bit signed integer, reverse digits of an integer.\n",
    "\n",
    "Note:\n",
    "Assume we are dealing with an environment that could only store integers within the 32-bit signed integer range: [−231,  231 − 1]. For the purpose of this problem, assume that your function returns 0 when the reversed integer overflows.\n",
    "\n",
    "https://leetcode.com/problems/reverse-integer/"
   ]
  },
  {
   "cell_type": "code",
   "execution_count": 2,
   "metadata": {},
   "outputs": [],
   "source": [
    "class Solution(object):\n",
    "    def reverse(self, x):\n",
    "        \"\"\"\n",
    "        :type x: int\n",
    "        :rtype: int\n",
    "        \"\"\"\n",
    "        if x >= 2**31-1 or x <= -2**31: \n",
    "            return 0\n",
    "        else:\n",
    "        \n",
    "            x = str(x)\n",
    "            y=\"\"\n",
    "            for i in x:\n",
    "                y = i + y\n",
    "\n",
    "            if(y[len(y)-1])=='-':\n",
    "                y = '-'+y[:-1]\n",
    "                \n",
    "        if int(y) >= 2**31-1 or int(y) <= -2**31: \n",
    "            return 0\n",
    "        else: \n",
    "            return int(y)\n"
   ]
  },
  {
   "cell_type": "code",
   "execution_count": null,
   "metadata": {},
   "outputs": [],
   "source": []
  }
 ],
 "metadata": {
  "kernelspec": {
   "display_name": "Python 3",
   "language": "python",
   "name": "python3"
  },
  "language_info": {
   "codemirror_mode": {
    "name": "ipython",
    "version": 3
   },
   "file_extension": ".py",
   "mimetype": "text/x-python",
   "name": "python",
   "nbconvert_exporter": "python",
   "pygments_lexer": "ipython3",
   "version": "3.7.7"
  }
 },
 "nbformat": 4,
 "nbformat_minor": 4
}
