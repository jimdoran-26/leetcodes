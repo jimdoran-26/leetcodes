{
 "cells": [
  {
   "cell_type": "markdown",
   "metadata": {},
   "source": [
    "409. Longest Palindrome\n",
    "https://leetcode.com/problems/longest-palindrome/\n",
    "Given a string s which consists of lowercase or uppercase letters, return the length of the longest palindrome that can be built with those letters.\n",
    "\n",
    "Letters are case sensitive, for example, \"Aa\" is not considered a palindrome here.\n",
    "\n",
    " \n",
    "\n",
    "Example 1:\n",
    "\n",
    "Input: s = \"abccccdd\"\n",
    "Output: 7\n",
    "Explanation:\n",
    "One longest palindrome that can be built is \"dccaccd\", whose length is 7.\n",
    "Example 2:\n",
    "\n",
    "Input: s = \"a\"\n",
    "Output: 1\n",
    "Example 3:\n",
    "\n",
    "Input: s = \"bb\"\n",
    "Output: 2\n",
    " \n",
    "\n",
    "Constraints:\n",
    "\n",
    "1 <= s.length <= 2000\n",
    "s consists of lowercase and/or uppercase English letters only."
   ]
  },
  {
   "cell_type": "code",
   "execution_count": 3,
   "metadata": {},
   "outputs": [],
   "source": [
    "class Solution(object):\n",
    "    def longestPalindrome(self, s):\n",
    "        \"\"\"\n",
    "        :type s: str\n",
    "        :rtype: int\n",
    "        \"\"\"\n",
    "        freq = {}\n",
    "        for letter in s:\n",
    "            if letter in freq:\n",
    "                freq[letter]+=11\n",
    "            else:\n",
    "                freq[letter]=1\n",
    "        \n",
    "        leng=0\n",
    "        for i in freq:\n",
    "            if freq[i]%2==0:\n",
    "                leng+= freq[i]\n",
    "            elif freq[i]>1:\n",
    "                leng+=freq[i]-1\n",
    "        \n",
    "        \n",
    "        if len(s)>leng:\n",
    "            leng+=1\n",
    "        return leng"
   ]
  },
  {
   "cell_type": "code",
   "execution_count": 5,
   "metadata": {},
   "outputs": [
    {
     "data": {
      "text/plain": [
       "46"
      ]
     },
     "execution_count": 5,
     "metadata": {},
     "output_type": "execute_result"
    }
   ],
   "source": [
    "a = Solution()\n",
    "a.longestPalindrome(\"abccccdd\")"
   ]
  },
  {
   "cell_type": "code",
   "execution_count": null,
   "metadata": {},
   "outputs": [],
   "source": []
  },
  {
   "cell_type": "code",
   "execution_count": null,
   "metadata": {},
   "outputs": [],
   "source": []
  }
 ],
 "metadata": {
  "kernelspec": {
   "display_name": "Python 3",
   "language": "python",
   "name": "python3"
  },
  "language_info": {
   "codemirror_mode": {
    "name": "ipython",
    "version": 3
   },
   "file_extension": ".py",
   "mimetype": "text/x-python",
   "name": "python",
   "nbconvert_exporter": "python",
   "pygments_lexer": "ipython3",
   "version": "3.7.3"
  }
 },
 "nbformat": 4,
 "nbformat_minor": 2
}
