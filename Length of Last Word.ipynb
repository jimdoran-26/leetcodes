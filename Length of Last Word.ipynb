{
 "cells": [
  {
   "cell_type": "markdown",
   "metadata": {},
   "source": [
    "58 \n",
    "https://leetcode.com/problems/length-of-last-word/\n",
    "Given a string s consists of some words separated by spaces, return the length of the last word in the string. If the last word does not exist, return 0.\n",
    "\n",
    "A word is a maximal substring consisting of non-space characters only.\n",
    "\n",
    " \n",
    "\n",
    "Example 1:\n",
    "\n",
    "Input: s = \"Hello World\"\n",
    "Output: 5\n",
    "Example 2:\n",
    "\n",
    "Input: s = \" \"\n",
    "Output: 0\n",
    " \n",
    "\n",
    "Constraints:\n",
    "\n",
    "1 <= s.length <= 104\n",
    "s consists of only English letters and spaces ' '."
   ]
  },
  {
   "cell_type": "code",
   "execution_count": 1,
   "metadata": {},
   "outputs": [],
   "source": [
    "class Solution(object):\n",
    "    def lengthOfLastWord(self, s):\n",
    "        \"\"\"\n",
    "        :type s: str\n",
    "        :rtype: int\n",
    "        \"\"\"\n",
    "        for i in range(len(s),0,-1):\n",
    "            if s[i-1]==' ':\n",
    "                s = s[:-1]\n",
    "            elif s[i-1]!= ' ':\n",
    "                break\n",
    "        \n",
    "        length =0\n",
    "        for i in range(len(s),0,-1):\n",
    "            if(s[i-1]!=' '):\n",
    "                length+=1\n",
    "            elif(s[i-1]==' '):\n",
    "                break\n",
    "            \n",
    "        return length\n",
    "        "
   ]
  },
  {
   "cell_type": "code",
   "execution_count": null,
   "metadata": {},
   "outputs": [],
   "source": []
  }
 ],
 "metadata": {
  "kernelspec": {
   "display_name": "Python 3",
   "language": "python",
   "name": "python3"
  },
  "language_info": {
   "codemirror_mode": {
    "name": "ipython",
    "version": 3
   },
   "file_extension": ".py",
   "mimetype": "text/x-python",
   "name": "python",
   "nbconvert_exporter": "python",
   "pygments_lexer": "ipython3",
   "version": "3.7.7"
  }
 },
 "nbformat": 4,
 "nbformat_minor": 4
}
